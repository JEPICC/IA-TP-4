{
 "cells": [
  {
   "cell_type": "markdown",
   "metadata": {},
   "source": [
    "<h1>TP 4 - Inteligencia artificial</h1>\n",
    "<h3>Prototipo destinado a la transformada de Hough de rectas</h3>"
   ]
  },
  {
   "cell_type": "code",
   "execution_count": null,
   "metadata": {},
   "outputs": [],
   "source": [
    "#Importaciones\n",
    "import cv2\n",
    "import numpy as np\n",
    "import matplotlib.pyplot as plt"
   ]
  },
  {
   "cell_type": "code",
   "execution_count": null,
   "metadata": {},
   "outputs": [],
   "source": [
    "#Carga de Imagen\n",
    "img = cv2.imread('Linea1.png', 0)"
   ]
  },
  {
   "cell_type": "code",
   "execution_count": null,
   "metadata": {},
   "outputs": [],
   "source": [
    "#Extraccion de medidas de imagen para calculo de diagonal\n",
    "# la misma sera utilizada para la matriz acumuladora\n",
    "height = img.shape[0]\n",
    "width = img.shape[1]\n",
    "img_diag = int(np.sqrt(width ** 2 + height ** 2))"
   ]
  },
  {
   "cell_type": "code",
   "execution_count": null,
   "metadata": {},
   "outputs": [],
   "source": [
    "#Filtros de puntos relevantes en la image → distintos de blanco\n",
    "accumulator = np.zeros((img_diag,180), dtype=np.int32)\n",
    "point_y, point_x = np.nonzero(img != 255)"
   ]
  },
  {
   "cell_type": "code",
   "execution_count": null,
   "metadata": {},
   "outputs": [],
   "source": [
    "#Calculo de distancia al origen para cada angulo de cada punto significativo\n",
    "for pos in range(len(point_y)):\n",
    "    for angle in range(0,180):\n",
    "        rad = np.deg2rad(angle)\n",
    "        d = int(np.cos(rad) * point_x[pos] + np.sin(rad) * point_y[pos])\n",
    "        accumulator[d][angle] = accumulator[d][angle] + 1\n"
   ]
  },
  {
   "cell_type": "code",
   "execution_count": null,
   "metadata": {},
   "outputs": [],
   "source": [
    "#Grafico de transformadas\n",
    "fig = plt.figure(figsize=(15, 10))\n",
    "plt.imshow(accumulator, cmap='jet')\n",
    "\n",
    "plt.xlabel('Angle')\n",
    "plt.ylabel('Origin Distance')\n",
    "plt.tight_layout()\n",
    "plt.show()"
   ]
  },
  {
   "cell_type": "code",
   "execution_count": null,
   "metadata": {},
   "outputs": [],
   "source": [
    "# Extraccion de coordenadas de punto maximo\n",
    "ind = np.unravel_index(np.argmax(accumulator, axis=None), accumulator.shape)\n",
    "distance, angle_result= ind"
   ]
  },
  {
   "cell_type": "code",
   "execution_count": null,
   "metadata": {},
   "outputs": [],
   "source": [
    "# Calculo de pendiente e independiente\n",
    "angle_result_rad = np.deg2rad(angle_result)\n",
    "slope = round(np.cos(angle_result_rad)/np.sin(angle_result_rad),3)\n",
    "intercept = round(distance / np.sin(angle_result_rad),3)\n",
    "print(f'y = {slope} x + {intercept}')"
   ]
  },
  {
   "cell_type": "code",
   "execution_count": null,
   "metadata": {},
   "outputs": [],
   "source": [
    "#Grafico de ecuacion lineal resultante\n",
    "tittle = 'Graph of y = {}x + {}'.format(slope,intercept)\n",
    "x = np.linspace(-5,5,100)\n",
    "y = slope * x + intercept\n",
    "plt.plot(x, y, '-r',label='result')\n",
    "plt.title(tittle)\n",
    "plt.xlabel('x', color='#1C2833')\n",
    "plt.ylabel('y', color='#1C2833')\n",
    "plt.legend(loc='upper left')\n",
    "plt.grid()\n",
    "plt.show()"
   ]
  }
 ],
 "metadata": {
  "kernelspec": {
   "display_name": "Python 3.10.4 ('opencv')",
   "language": "python",
   "name": "python3"
  },
  "language_info": {
   "codemirror_mode": {
    "name": "ipython",
    "version": 3
   },
   "file_extension": ".py",
   "mimetype": "text/x-python",
   "name": "python",
   "nbconvert_exporter": "python",
   "pygments_lexer": "ipython3",
   "version": "3.10.4"
  },
  "orig_nbformat": 4,
  "vscode": {
   "interpreter": {
    "hash": "03ee6795ce1ce361f0242c06d21f056c9bc20d515b9def941a79b8309a29bb1a"
   }
  }
 },
 "nbformat": 4,
 "nbformat_minor": 2
}
