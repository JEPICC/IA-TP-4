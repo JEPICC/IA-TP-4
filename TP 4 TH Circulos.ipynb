{
 "cells": [
  {
   "cell_type": "markdown",
   "metadata": {},
   "source": [
    "<h1>TP 4 - Inteligencia artificial</h1>\n",
    "<h3>Prototipo destinado a la transformada de Hough de circunferencias</h3>"
   ]
  },
  {
   "cell_type": "code",
   "execution_count": null,
   "metadata": {},
   "outputs": [],
   "source": [
    "#Importaciones\n",
    "import cv2\n",
    "import numpy as np\n",
    "import matplotlib.pyplot as plt"
   ]
  },
  {
   "cell_type": "code",
   "execution_count": null,
   "metadata": {},
   "outputs": [],
   "source": [
    "#Carga de Imagen\n",
    "img = cv2.imread('Circulo4.png', 0)"
   ]
  },
  {
   "cell_type": "code",
   "execution_count": null,
   "metadata": {},
   "outputs": [],
   "source": [
    "edges = cv2.Canny(img,100,200)\n",
    "plt.subplot(121),plt.imshow(img,cmap = 'gray')\n",
    "plt.title('Original Image'), plt.xticks([]), plt.yticks([])\n",
    "plt.subplot(122),plt.imshow(edges,cmap = 'gray')\n",
    "plt.title('Edge Image'), plt.xticks([]), plt.yticks([])\n",
    "plt.show()"
   ]
  },
  {
   "cell_type": "code",
   "execution_count": null,
   "metadata": {},
   "outputs": [],
   "source": [
    "#Extraccion de medidas de imagen para calculo de diagonal\n",
    "# la misma sera utilizada para la matriz acumuladora\n",
    "height = img.shape[0]\n",
    "width = img.shape[1]\n",
    "img_diag = int(np.sqrt(width ** 2 + height ** 2))\n",
    "len(img)"
   ]
  },
  {
   "cell_type": "code",
   "execution_count": null,
   "metadata": {},
   "outputs": [],
   "source": [
    "#Filtros de puntos relevantes en la image → distintos de grises\n",
    "accumulator = np.zeros((height*2,width*2), dtype=np.int32)\n",
    "point_y, point_x = np.nonzero(img < 100)\n",
    "len(point_x)"
   ]
  },
  {
   "cell_type": "code",
   "execution_count": null,
   "metadata": {},
   "outputs": [],
   "source": [
    "#Calculo de distancia al origen para cada angulo de cada punto significativo\n",
    "angles = np.deg2rad(np.arange(0, 360))\n",
    "for pos in range(len(point_y)):\n",
    "    for angle in angles:\n",
    "        x = np.int32(point_x[pos] + np.cos(angle) * 110)\n",
    "        y = np.int32(point_y[pos] + np.sin(angle) * 110) \n",
    "        accumulator[y][x] = accumulator[y][x] + 1\n"
   ]
  },
  {
   "cell_type": "code",
   "execution_count": null,
   "metadata": {},
   "outputs": [],
   "source": [
<<<<<<< HEAD
=======
    "np.count_nonzero(accumulator > 0)"
   ]
  },
  {
   "cell_type": "code",
   "execution_count": null,
   "metadata": {},
   "outputs": [],
   "source": [
>>>>>>> ed22237d284bf660faafdce6789b96845253ac38
    "#Grafico de transformadas\n",
    "fig = plt.figure(figsize=(15, 10))\n",
    "plt.imshow(accumulator, cmap='binary')\n",
    "plt.xlabel('Position X')\n",
    "plt.ylabel('Position Y')\n",
    "plt.tight_layout()\n",
    "plt.show()"
   ]
  },
  {
   "cell_type": "code",
   "execution_count": null,
   "metadata": {},
   "outputs": [],
   "source": [
    "# Extraccion de coordenadas de punto maximo\n",
    "ind = np.unravel_index(np.argmax(accumulator, axis=None), accumulator.shape)\n",
    "pos_y, pos_x = ind"
   ]
  },
  {
   "cell_type": "code",
   "execution_count": null,
   "metadata": {},
   "outputs": [],
   "source": [
    "#Grafico de ecuacion del circulo resultante\n",
    "\n",
    "figure, axes = plt.subplots()\n",
    "axes.set(xlim=(0 , width), ylim = (height , 0))\n",
    "draw_circle = plt.Circle((pos_x, pos_y), 110,fill=False)\n",
    "\n",
    "plt.gcf().gca().add_artist(draw_circle)\n",
    "plt.title('r\\u00b2 = (x + {})\\u00b2 + (y + {})\\u00b2'.format(pos_x,pos_y))\n",
    "axes.set_aspect(1)\n",
    "plt.show()"
   ]
  }
 ],
 "metadata": {
  "kernelspec": {
   "display_name": "Python 3.10.4 ('opencv')",
   "language": "python",
   "name": "python3"
  },
  "language_info": {
   "codemirror_mode": {
    "name": "ipython",
    "version": 3
   },
   "file_extension": ".py",
   "mimetype": "text/x-python",
   "name": "python",
   "nbconvert_exporter": "python",
   "pygments_lexer": "ipython3",
   "version": "3.10.4"
  },
  "orig_nbformat": 4,
  "vscode": {
   "interpreter": {
    "hash": "03ee6795ce1ce361f0242c06d21f056c9bc20d515b9def941a79b8309a29bb1a"
   }
  }
 },
 "nbformat": 4,
 "nbformat_minor": 2
}
